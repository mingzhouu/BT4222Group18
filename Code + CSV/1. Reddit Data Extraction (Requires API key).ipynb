{
 "cells": [
  {
   "cell_type": "code",
   "execution_count": 33,
   "id": "q7phyOVFQPxg",
   "metadata": {
    "colab": {
     "base_uri": "https://localhost:8080/"
    },
    "id": "q7phyOVFQPxg",
    "outputId": "154b02b8-201e-4898-fd40-ca6a8a2fff40"
   },
   "outputs": [
    {
     "name": "stdout",
     "output_type": "stream",
     "text": [
      "Requirement already satisfied: scikit-learn in c:\\users\\cy\\anaconda3\\lib\\site-packages (0.24.2)\n",
      "Collecting scikit-learn\n",
      "  Downloading scikit_learn-1.2.1-cp39-cp39-win_amd64.whl (8.4 MB)\n",
      "Collecting joblib>=1.1.1\n",
      "  Downloading joblib-1.2.0-py3-none-any.whl (297 kB)\n",
      "Requirement already satisfied: numpy>=1.17.3 in c:\\users\\cy\\anaconda3\\lib\\site-packages (from scikit-learn) (1.20.3)\n",
      "Requirement already satisfied: scipy>=1.3.2 in c:\\users\\cy\\anaconda3\\lib\\site-packages (from scikit-learn) (1.8.0)\n",
      "Requirement already satisfied: threadpoolctl>=2.0.0 in c:\\users\\cy\\anaconda3\\lib\\site-packages (from scikit-learn) (2.2.0)\n",
      "Installing collected packages: joblib, scikit-learn\n",
      "  Attempting uninstall: joblib\n",
      "    Found existing installation: joblib 1.1.0\n",
      "    Uninstalling joblib-1.1.0:\n",
      "      Successfully uninstalled joblib-1.1.0\n",
      "  Attempting uninstall: scikit-learn\n",
      "    Found existing installation: scikit-learn 0.24.2\n",
      "    Uninstalling scikit-learn-0.24.2:\n",
      "      Successfully uninstalled scikit-learn-0.24.2\n",
      "Successfully installed joblib-1.2.0 scikit-learn-1.2.1\n"
     ]
    }
   ],
   "source": [
    "#!pip install --upgrade networkx==2.6\n",
    "#!pip install --upgrade scipy==1.8.0\n",
    "#!pip install praw\n",
    "#!pip install stanza\n",
    "#!pip install --upgrade scikit-learn"
   ]
  },
  {
   "cell_type": "code",
   "execution_count": 1,
   "id": "eb952c87",
   "metadata": {
    "id": "eb952c87"
   },
   "outputs": [],
   "source": [
    "import re\n",
    "import os\n",
    "import io\n",
    "import praw\n",
    "import time\n",
    "import math\n",
    "import string\n",
    "\n",
    "import numpy as np\n",
    "import pandas as pd\n",
    "import datetime as dt\n",
    "\n",
    "from wordcloud import WordCloud\n",
    "from string import punctuation"
   ]
  },
  {
   "cell_type": "markdown",
   "id": "4d2a2f30",
   "metadata": {
    "id": "4d2a2f30"
   },
   "source": [
    "<h3>1. Getting text data from reddit with PRAW</h3>"
   ]
  },
  {
   "cell_type": "code",
   "execution_count": null,
   "id": "e308fc51",
   "metadata": {
    "id": "e308fc51"
   },
   "outputs": [],
   "source": [
    "#authentication information for PRAW\n",
    "client_id = 'H61SWl0sMBRXTQ'\n",
    "secret = 'Kqx0-4gpMhNjFJv95Wt3hf71xwvVfg'\n",
    "user_agent = r\"Mozilla/5.0 (Windows NT 10.0; Win64; x64) \\\n",
    "AppleWebKit/537.36 (KHTML, like Gecko) \\\n",
    "Chrome/109.0.0.0 Safari/537.36\"\n",
    "\n",
    "#initialize connection\n",
    "reddit = praw.Reddit(\n",
    "    client_id = client_id,\n",
    "    client_secret = secret,\n",
    "    user_agent = user_agent,\n",
    ")"
   ]
  },
  {
   "cell_type": "code",
   "execution_count": null,
   "id": "4f569cbb",
   "metadata": {
    "id": "4f569cbb"
   },
   "outputs": [],
   "source": [
    "#empty df to hold submission stats\n",
    "df = pd.DataFrame(columns = [\n",
    "    'created', 'id', \n",
    "    'content', 'num_comments', \n",
    "    'score', 'type', \n",
    "    'post_affiliation'\n",
    "])\n",
    "\n",
    "#get top 1000 most popular posts over the last year\n",
    "subreddit = reddit.subreddit('HarryPotterGame')\n",
    "for submission in subreddit.top(limit = 1000, time_filter = 'year'):\n",
    "    #print and save post info\n",
    "    print(f'{dt.datetime.fromtimestamp(submission.created_utc)} |\\\n",
    "    post_id: {submission}\\\n",
    "    upvotes: {submission.score} |\\\n",
    "    comment count: {submission.num_comments}')\n",
    "    print(f'{submission.title}\\n')\n",
    "    print(\"*\"*100)\n",
    "    \n",
    "    df.loc[len(df)] = [\n",
    "        dt.datetime.fromtimestamp(submission.created_utc),\n",
    "        submission,\n",
    "        submission.title,\n",
    "        submission.num_comments,\n",
    "        submission.score,\n",
    "        'post',\n",
    "        np.nan\n",
    "    ]\n",
    "    \n",
    "    #print and save comment info\n",
    "    for comment in submission.comments[:40]:\n",
    "        print(f\"created: {dt.datetime.fromtimestamp(comment.created_utc)} |\\\n",
    "        upvotes: {comment.score} |\\\n",
    "        comment_id: {comment}\")\n",
    "        print(f'{comment.body}\\n')\n",
    "        \n",
    "        df.loc[len(df)] = [\n",
    "            dt.datetime.fromtimestamp(comment.created_utc),\n",
    "            comment,\n",
    "            comment.body,\n",
    "            np.nan,\n",
    "            comment.score,\n",
    "            'comment',\n",
    "            submission\n",
    "        ]\n",
    "    print('='*100)\n",
    "print('completed')"
   ]
  },
  {
   "cell_type": "code",
   "execution_count": 2,
   "id": "32544679",
   "metadata": {
    "colab": {
     "base_uri": "https://localhost:8080/",
     "height": 345
    },
    "id": "32544679",
    "outputId": "fa35e75c-7b4a-4e5a-9b98-c7d8b3a03d2a"
   },
   "outputs": [
    {
     "data": {
      "text/html": [
       "<div>\n",
       "<style scoped>\n",
       "    .dataframe tbody tr th:only-of-type {\n",
       "        vertical-align: middle;\n",
       "    }\n",
       "\n",
       "    .dataframe tbody tr th {\n",
       "        vertical-align: top;\n",
       "    }\n",
       "\n",
       "    .dataframe thead th {\n",
       "        text-align: right;\n",
       "    }\n",
       "</style>\n",
       "<table border=\"1\" class=\"dataframe\">\n",
       "  <thead>\n",
       "    <tr style=\"text-align: right;\">\n",
       "      <th></th>\n",
       "      <th>created</th>\n",
       "      <th>id</th>\n",
       "      <th>content</th>\n",
       "      <th>num_comments</th>\n",
       "      <th>score</th>\n",
       "      <th>type</th>\n",
       "      <th>post_affiliation</th>\n",
       "    </tr>\n",
       "  </thead>\n",
       "  <tbody>\n",
       "    <tr>\n",
       "      <th>0</th>\n",
       "      <td>10/2/2023 5:01</td>\n",
       "      <td>10y62p3</td>\n",
       "      <td>It be crucial</td>\n",
       "      <td>298.0</td>\n",
       "      <td>6642</td>\n",
       "      <td>post</td>\n",
       "      <td>NaN</td>\n",
       "    </tr>\n",
       "    <tr>\n",
       "      <th>1</th>\n",
       "      <td>10/2/2023 7:13</td>\n",
       "      <td>j7wremr</td>\n",
       "      <td>I hate casting Revelio just slightly too far a...</td>\n",
       "      <td>NaN</td>\n",
       "      <td>714</td>\n",
       "      <td>comment</td>\n",
       "      <td>10y62p3</td>\n",
       "    </tr>\n",
       "    <tr>\n",
       "      <th>2</th>\n",
       "      <td>10/2/2023 6:33</td>\n",
       "      <td>j7wlltr</td>\n",
       "      <td>There’s a talent to upgrade the distance. Anyo...</td>\n",
       "      <td>NaN</td>\n",
       "      <td>114</td>\n",
       "      <td>comment</td>\n",
       "      <td>10y62p3</td>\n",
       "    </tr>\n",
       "    <tr>\n",
       "      <th>3</th>\n",
       "      <td>10/2/2023 9:03</td>\n",
       "      <td>j7x6q78</td>\n",
       "      <td>Quality of life change......keep Lumos on when...</td>\n",
       "      <td>NaN</td>\n",
       "      <td>100</td>\n",
       "      <td>comment</td>\n",
       "      <td>10y62p3</td>\n",
       "    </tr>\n",
       "    <tr>\n",
       "      <th>4</th>\n",
       "      <td>10/2/2023 5:14</td>\n",
       "      <td>j7w97d8</td>\n",
       "      <td>I just hate that it took me a solid 5 hours be...</td>\n",
       "      <td>NaN</td>\n",
       "      <td>336</td>\n",
       "      <td>comment</td>\n",
       "      <td>10y62p3</td>\n",
       "    </tr>\n",
       "  </tbody>\n",
       "</table>\n",
       "</div>"
      ],
      "text/plain": [
       "          created       id                                            content  \\\n",
       "0  10/2/2023 5:01  10y62p3                                      It be crucial   \n",
       "1  10/2/2023 7:13  j7wremr  I hate casting Revelio just slightly too far a...   \n",
       "2  10/2/2023 6:33  j7wlltr  There’s a talent to upgrade the distance. Anyo...   \n",
       "3  10/2/2023 9:03  j7x6q78  Quality of life change......keep Lumos on when...   \n",
       "4  10/2/2023 5:14  j7w97d8  I just hate that it took me a solid 5 hours be...   \n",
       "\n",
       "   num_comments  score     type post_affiliation  \n",
       "0         298.0   6642     post              NaN  \n",
       "1           NaN    714  comment          10y62p3  \n",
       "2           NaN    114  comment          10y62p3  \n",
       "3           NaN    100  comment          10y62p3  \n",
       "4           NaN    336  comment          10y62p3  "
      ]
     },
     "execution_count": 2,
     "metadata": {},
     "output_type": "execute_result"
    }
   ],
   "source": [
    "#load file\n",
    "df = pd.read_csv('top_posts_year.csv')\n",
    "df.head()"
   ]
  },
  {
   "cell_type": "code",
   "execution_count": 3,
   "id": "61e0ecaf",
   "metadata": {},
   "outputs": [],
   "source": [
    "#get month and year of creation for splitting of data later\n",
    "df['created'] = pd.to_datetime(df['created'])\n",
    "df['month'] = df['created'].dt.month\n",
    "df['year'] = df['created'].dt.year"
   ]
  },
  {
   "cell_type": "code",
   "execution_count": 8,
   "id": "3012cce2",
   "metadata": {},
   "outputs": [],
   "source": [
    "#condense into function requiring only main dataframe, post dataframe, number of posts to grab\n",
    "def get_sample(df, post_df, n_posts, rs):\n",
    "    #create empty dataframe to hold posts and comments\n",
    "    post_pool = pd.DataFrame(columns = df.columns)\n",
    "    \n",
    "    #get posts with 20 or more comments\n",
    "    for id in post_df['id']:\n",
    "        if len(df.loc[df['post_affiliation'] == id].index) >= 20:\n",
    "            row = post_df.loc[post_df['id'] == id]\n",
    "            post_pool = post_pool.append(row)\n",
    "\n",
    "    #proportion of posts/comments to take from each time period\n",
    "    split_proportion = pd.DataFrame(post_pool.groupby(['month', 'year']).size() / len(post_df.index))\n",
    "    \n",
    "    #determine multiplier to apply to proportion df to obtain n_posts and 20 * n_posts comments\n",
    "    multiplier = 0\n",
    "    for n in range(0, 1000):\n",
    "        sample_size = split_proportion.iloc[:,0].apply(lambda x: math.ceil(x*n)).sum()\n",
    "        if sample_size >= n_posts:\n",
    "            multiplier = n\n",
    "            break\n",
    "            \n",
    "    #create empty dataframe to hold selected comments and post\n",
    "    selected = pd.DataFrame()\n",
    "\n",
    "    #for posts from each time period\n",
    "    for (month, year) in split_proportion.index:\n",
    "        #get probability of posts to retrieve for this time period\n",
    "        prop = split_proportion.loc[split_proportion.index == (month, year)].iat[0, 0]\n",
    "        selected_posts = post_pool.loc[(post_pool['month'] == month) & (post_pool['year'] == year)]\\\n",
    "        .sample(n = math.ceil(prop*74), random_state = rs)\n",
    "\n",
    "        #add selected posts to the results dataframe\n",
    "        if len(selected.index) == 0:\n",
    "            selected = selected_posts\n",
    "        else:\n",
    "            selected = pd.concat([selected, selected_posts])\n",
    "\n",
    "        #filter out and randomly sample (proportion x total rows) number of rows\n",
    "        for pid in selected_posts['id']:\n",
    "            #randomly sample 20 comments\n",
    "            comment_pool = df.loc[df['post_affiliation'] == pid]\n",
    "            comments = comment_pool.sample(n = 20, random_state = rs)\n",
    "            #add selected comments to the results dataframe\n",
    "            selected = pd.concat([selected, comments])\n",
    "    print()\n",
    "    return selected"
   ]
  },
  {
   "cell_type": "code",
   "execution_count": 10,
   "id": "048659b0",
   "metadata": {},
   "outputs": [],
   "source": [
    "#posts before early access date of 7 Feb 2023 6pm GMT\n",
    "posts_bef = df.loc[(pd.to_datetime(df['created'])<dt.datetime(2023,2,7,6,0,0)) & (df['type'] == 'post')]\n",
    "\n",
    "#posts after early access date\n",
    "posts_aft = df.loc[(pd.to_datetime(df['created'])>dt.datetime(2023,2,7,6,0,0)) & (df['type'] == 'post')]"
   ]
  },
  {
   "cell_type": "code",
   "execution_count": 27,
   "id": "022283ae",
   "metadata": {},
   "outputs": [],
   "source": [
    "#pd.concat([sample_bef, sample_aft]).to_csv('to_label.csv', index = False)"
   ]
  }
 ],
 "metadata": {
  "colab": {
   "provenance": []
  },
  "kernelspec": {
   "display_name": "Python 3 (ipykernel)",
   "language": "python",
   "name": "python3"
  },
  "language_info": {
   "codemirror_mode": {
    "name": "ipython",
    "version": 3
   },
   "file_extension": ".py",
   "mimetype": "text/x-python",
   "name": "python",
   "nbconvert_exporter": "python",
   "pygments_lexer": "ipython3",
   "version": "3.9.12"
  },
  "varInspector": {
   "cols": {
    "lenName": 16,
    "lenType": 16,
    "lenVar": 40
   },
   "kernels_config": {
    "python": {
     "delete_cmd_postfix": "",
     "delete_cmd_prefix": "del ",
     "library": "var_list.py",
     "varRefreshCmd": "print(var_dic_list())"
    },
    "r": {
     "delete_cmd_postfix": ") ",
     "delete_cmd_prefix": "rm(",
     "library": "var_list.r",
     "varRefreshCmd": "cat(var_dic_list()) "
    }
   },
   "types_to_exclude": [
    "module",
    "function",
    "builtin_function_or_method",
    "instance",
    "_Feature"
   ],
   "window_display": false
  }
 },
 "nbformat": 4,
 "nbformat_minor": 5
}
