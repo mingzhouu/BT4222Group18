{
 "cells": [
  {
   "cell_type": "code",
   "execution_count": 38,
   "id": "71919a8c",
   "metadata": {},
   "outputs": [],
   "source": [
    "#!pip install --upgrade networkx==2.6\n",
    "#!pip install --upgrade scipy==1.8.0\n",
    "import networkx as nx #use scipy v1.8.0, networkx v2.6\n",
    "import nltk\n",
    "import datetime as dt\n",
    "import string\n",
    "import numpy as np\n",
    "import pandas as pd\n",
    "import matplotlib.pyplot as plt\n",
    "\n",
    "from nltk.corpus import stopwords\n",
    "from nltk.stem import WordNetLemmatizer\n",
    "from nltk.tokenize import sent_tokenize, word_tokenize\n",
    "from heapq import nlargest\n",
    "from time import time\n",
    "import requests\n",
    "import re\n",
    "\n",
    "from sklearn.decomposition import NMF\n",
    "from sklearn.feature_extraction.text import TfidfVectorizer\n",
    "from tabulate import tabulate"
   ]
  },
  {
   "cell_type": "markdown",
   "id": "2289e1cc",
   "metadata": {},
   "source": [
    "## 1. Read Reddit Posts & Comments"
   ]
  },
  {
   "cell_type": "code",
   "execution_count": 2,
   "id": "085df257",
   "metadata": {},
   "outputs": [],
   "source": [
    "df = pd.read_csv('predict_output_xgb.csv')\n",
    "df = df.dropna(subset=['cleaned_content'])\n",
    "\n",
    "#Get month and year\n",
    "df['created'] = pd.to_datetime(df['created'], format = '%d/%m/%Y %H:%M')\n",
    "df['month'] = df['created'].dt.month\n",
    "df['year'] = df['created'].dt.year\n",
    "\n",
    "#Get unique tokens\n",
    "df['cleaned_unique'] = df['cleaned_content'].apply(lambda x: \" \".join(np.unique([token for token in word_tokenize(x)])))\n",
    "\n",
    "#Split into before and after release as well as positive and negative sentiments for both time periods\n",
    "bef = df.loc[pd.to_datetime(df['created'])<dt.datetime(2023,2,7,6,0,0)].reset_index(drop = True)\n",
    "bef_pos = bef.loc[bef['pred_sentiment'] == 'positive'].reset_index(drop = True)\n",
    "bef_neg = bef.loc[bef['pred_sentiment'] == 'negative'].reset_index(drop = True)\n",
    "aft = df.loc[pd.to_datetime(df['created'])>=dt.datetime(2023,2,7,6,0,0)].reset_index(drop = True)\n",
    "aft_pos = aft.loc[aft['pred_sentiment'] == 'positive'].reset_index(drop = True)\n",
    "aft_neg = aft.loc[aft['pred_sentiment'] == 'negative'].reset_index(drop = True)"
   ]
  },
  {
   "cell_type": "code",
   "execution_count": 3,
   "id": "5b4cd2c6",
   "metadata": {},
   "outputs": [],
   "source": [
    "def get_reviews(appid, params={'json':1}):\n",
    "        url = 'https://store.steampowered.com/appreviews/'\n",
    "        response = requests.get(url=url+appid, params=params, headers={'User-Agent': 'Mozilla/5.0'})\n",
    "        return response.json()"
   ]
  },
  {
   "cell_type": "code",
   "execution_count": 4,
   "id": "1d3c4eea",
   "metadata": {},
   "outputs": [],
   "source": [
    "# Obtaining only negative reviews\n",
    "def get_n_reviews(appid, n=100):\n",
    "    reviews = []\n",
    "    cursor = '*'\n",
    "    params = {\n",
    "            'json' : 1,\n",
    "            'filter' : 'all',\n",
    "            'language' : 'english',\n",
    "            'day_range' : 9223372036854775807,\n",
    "            'review_type' : 'negative',\n",
    "            'purchase_type' : 'all'\n",
    "            }\n",
    "\n",
    "    while n > 0:\n",
    "        params['cursor'] = cursor.encode()\n",
    "        params['num_per_page'] = min(100, n)\n",
    "        n -= 100\n",
    "\n",
    "        response = get_reviews(appid, params)\n",
    "        cursor = response['cursor']\n",
    "        reviews += response['reviews']\n",
    "\n",
    "        if len(response['reviews']) < 100: break\n",
    "\n",
    "    return reviews"
   ]
  },
  {
   "cell_type": "markdown",
   "id": "cc95be51",
   "metadata": {},
   "source": [
    "## 2. Get Steam Reviews"
   ]
  },
  {
   "cell_type": "code",
   "execution_count": 5,
   "id": "1dc55719",
   "metadata": {},
   "outputs": [],
   "source": [
    "# Input Hogwarts Legacy's AppID, and the number of reveiws to return\n",
    "reviews = get_n_reviews(\"990080\",10000)\n",
    "steam_df = pd.DataFrame (reviews)\n",
    "\n",
    "steam_df['timestamp_created'] = steam_df['timestamp_created'].apply(lambda d: dt.datetime.fromtimestamp(int(d)).strftime('%Y-%m-%d'))"
   ]
  },
  {
   "cell_type": "code",
   "execution_count": 6,
   "id": "1aa70463",
   "metadata": {},
   "outputs": [],
   "source": [
    "#Only take reviews from 14th and before\n",
    "steam_df = steam_df.loc[pd.to_datetime(steam_df['timestamp_created'])<dt.datetime(2023,2,15,0,0,0)].reset_index(drop = True)"
   ]
  },
  {
   "cell_type": "code",
   "execution_count": 7,
   "id": "7f59db88",
   "metadata": {},
   "outputs": [],
   "source": [
    "#Define default english stop words and add 'game' to the list\n",
    "stop_words = list(stopwords.words('english'))\n",
    "stop_words.append('game')\n",
    "lemmatizer = WordNetLemmatizer()\n",
    "def preprocess_text(text):\n",
    "    #Remove URLs\n",
    "    url_pattern = re.compile(r'https?://\\S+|www\\.\\S+')\n",
    "    text = url_pattern.sub('', text)\n",
    "    # Remove punctuation\n",
    "    text = text.translate(str.maketrans('', '', string.punctuation))\n",
    "    # Convert to lowercase\n",
    "    text = text.lower()\n",
    "    # Tokenize\n",
    "    tokens = nltk.word_tokenize(text)\n",
    "    # lemmatize\n",
    "    tokens = [lemmatizer.lemmatize(token) for token in tokens]\n",
    "    # Remove stop words\n",
    "    tokens = [token for token in tokens if token not in stop_words]\n",
    "    # Remove Nones\n",
    "    tokens = list(filter(lambda x: x is not None, tokens))\n",
    "    return ' '.join(tokens)"
   ]
  },
  {
   "cell_type": "code",
   "execution_count": 8,
   "id": "4e48cda7",
   "metadata": {},
   "outputs": [],
   "source": [
    "# Preprocess text\n",
    "steam_df['cleaned'] = steam_df['review'].apply(preprocess_text)\n",
    "steam_df['cleaned_unique'] = steam_df['cleaned'].apply(lambda x: \" \".join(np.unique([token for token in word_tokenize(x)])))"
   ]
  },
  {
   "cell_type": "code",
   "execution_count": 13,
   "id": "cc4cb978",
   "metadata": {
    "scrolled": true
   },
   "outputs": [],
   "source": [
    "#Function to return top 20 sentences using page rank algorithm\n",
    "def pagerank(dataframe):\n",
    "    sentences = dataframe['cleaned_unique']\n",
    "    #Initialize graph object\n",
    "    graph = nx.Graph()\n",
    "    graph.add_nodes_from(range(len(sentences)))\n",
    "\n",
    "    #Sentences are nodes. Edges are weighted by proportion of common words.\n",
    "    for i in range(len(sentences)):\n",
    "        curr = set(\n",
    "            np.unique(\n",
    "                [token for token in word_tokenize(sentences[i]) if (str(token).isalpha() == True)]\n",
    "            )\n",
    "        )\n",
    "        for j in range(i + 1, len(sentences)):\n",
    "            other = set(\n",
    "                np.unique(\n",
    "                    [token for token in word_tokenize(sentences[j]) if (str(token).isalpha() == True)]\n",
    "                )\n",
    "            )\n",
    "            #Get proportion of common words\n",
    "            common_prop = len(curr & other)*2/np.max([1, (len(curr) + len(other))])\n",
    "            #Add edge between two nodes if common words prop > 1\n",
    "            if common_prop > 0:\n",
    "                graph.add_edge(i, j, weight = common_prop)\n",
    "\n",
    "    #Calculate pagerank scores\n",
    "    pagerank = nx.pagerank(graph)\n",
    "\n",
    "    #Find top 10 sentences\n",
    "    top_indexes = sorted(nlargest(10, pagerank, key = pagerank.get))\n",
    "    return top_indexes, pagerank"
   ]
  },
  {
   "cell_type": "markdown",
   "id": "eb234044",
   "metadata": {},
   "source": [
    "## 3. Network Analysis"
   ]
  },
  {
   "cell_type": "code",
   "execution_count": 15,
   "id": "8712f1ce",
   "metadata": {},
   "outputs": [],
   "source": [
    "#Negative steam reviews\n",
    "idx_steam, pr_steam = pagerank(steam_df)"
   ]
  },
  {
   "cell_type": "code",
   "execution_count": 67,
   "id": "ad1ebe10",
   "metadata": {},
   "outputs": [
    {
     "name": "stdout",
     "output_type": "stream",
     "text": [
      "[rank 0]:\n",
      "I would recommend this any time. The game is an absolute dream for HP fans and just ticks every box for a good open world take on the wizarding world. \n",
      "\n",
      "But I can't recommend this game while it runs that bad on PC. I can run the Game on my config on Medium with DLSS on and it \"works\". Stutters are minimal but you can feel them. If I change the settings to low - high - ultra, the game is unplayable in hogwarts and hogsmead. I should easily run the game on high if not on Ultra on 1080p. Now the big oof: Its not just me. Everybody of my Friends who play this game as well are having the same issues. Running it perfectly on Ultra but in Hogwarts and Hogsmead the game just drops towards under 10 fps. \n",
      "\n",
      "There is a Patch needed asap to fix this. And if it is really the anti cheat then get rid of it asap to make it customer friendly.\n",
      "[rank 1]:\n",
      "RTX 3090\n",
      "64 GB RAM\n",
      "i9 12900K\n",
      "\n",
      "average FPS- 35 (on any setting, it doesn't change regardless if on low or ultra weather RTX is on or off it never changes)\n",
      "\n",
      "I can only play the game in short bursts of time because the stutters, frame drops, horrible performance. \n",
      "\n",
      "I have a friend running on an out dated computer with a 1070 that runs this game on ultra getting 60+ FPS. \n",
      "Would love to play this game more seriously, it seems like it's going to be really fun but I just can't get immersed when my game has constant issues that I really shouldn't be experiencing on my computer.\n",
      "[rank 2]:\n",
      "DO NOT BUY RIGHT NOW. The game itself seems fun and the world is great and all but its pretty much unplayable right now. No matter how beefy of a pc you have you will have stutters and frame drops constantly. I'm getting a headache trying to run around the castle as the game constantly stutters. It can run a smooth 60 fps in some areas, but is comically bad in others. Seems like it is just poorly optimized, I would wait until the game gets patched and the optimization issues are fixed, because it ruins what is otherwise a cool game.\n",
      "[rank 3]:\n",
      "EDIT: It's been a month since release and the developers haven't done anything whatsoever to fix the performance issues, until they do so my review will remain negative; the game itself is great but it's unnaceptable that it released like this, all of the game's issues stem from horrible optimisation and could've been easily avoided. It has no resolution settings with no fullscreen option, on demand texture loading (in an open world game lol) and awful memory bloat, all of which make it borderline unplayable unless you do the developer's work for them. I managed to make the game playable myself by using mods and forcing the resolution to change by changing my windows display settings, but the fact that I have to use out of game fixes to play it is ridiculous! Even now that it's playable I have to restart the game every hour because the memory bloat is so bad that my frames are cut in half within that time period.\n",
      "\n",
      "I would really like to recommend this game, but due to it's horrible performance I can't do so at this time and I'd highly suggest waiting until it's been patched. The game was clearly made for consoles because the optimisation on PC is awful and the game barely works because of it, which is very unfortunate because the game seems like it's great. It's obviously had a lot of love put into it and the gameplay is very good, but it runs so poorly that it's literally unplayable in it's current state. My PC is more than capable of running this game on the highest settings with 60+ FPS, but it constantly stutters which causes the FPS to drop dramatically and I've seen drops into the single digits; for comparison, I can run RDR2 and MW2 on maximum settings without any issues but I can't run HL even on the lowest settings.\n",
      "\n",
      "The game looks great, the dialogue and voice acting is very good, the setting is cool and Hogwarts itself is extremely well made, with fun combat that exceeded my expectations. However I've barely been able to play it because it performs so poorly, which is very disappointing. If the developers patch the game so that it works I'll likely change this review to positive, but for the time being I won't recommend a non-functional game.\n",
      "[rank 4]:\n",
      "If you don't mind stutter and fps drops this game is actually pretty good and fun. But to me performance is key for an enjoyable experience, and this game perform like trash even on the highest rigs. This game is supposed to run on switch at some point, so it should have no probs at all running on a 3090 or 4090, still it's impossible to keep 60 fps for more than a few seconds. At least inside the castle fps drops and stutters are around every corner. Hence, I can't recommend the game in this state. Wait for a fix or buy at a big discount, they don't deserve full price on pc since they didn't put the effort to make the game smooth even in the main area of game, the castle, the one you're going to spend the most time i suppose\n",
      "[rank 5]:\n",
      "The game looks like it could be good but it runs so badly on my 3060TI i can no way recommend it right now. Wait until they fix the performance issues. Will come back to review then.\n",
      "\n",
      "2 patches later - the game now runs even worse actually unplayable.\n",
      "[rank 6]:\n",
      "the game is really great but the stuttering is overwhelming even in the lowest setting ultra performance. so yeah, i don't recommend this for mid-range pc specs for now. i'll change my review when you fix this stuttering issue.\n",
      "\n",
      "i didn't bother to refund coz like i said the game is great and i like it. my pc specs is mid-range so its definitely can run the game. its just the stuttering is crazy but can be fixed on patch so i'll just wait for the patch.\n",
      "\n",
      "https://www.youtube.com/watch?v=UIzGbX_ZG08 (gameplay with crazy stuttering.)\n",
      "\n",
      "EDIT: After patch it made it a bit playable but there's still stuttering. mostly when fighting enemies.\n",
      "[rank 7]:\n",
      "beautiful game,makes you wanna explore the world ,gameplay is very satisfying but this game requires you to have newest pc or its unplayable, i dont want to wait 10s or more just to open my inventory or tp from place to place and loads forever even opening map menu  takes time to load even tho i run game on lowest settings and  i have 16gb ram,970 graphics card,i7- 490k processor , i know my pc old but still....it shouldnt be like that....all games runs fine to me but this one poorly optimized thats why i cant recommend this game...ill change to positive review later on if they fix the game ,or maby im just too poor to buy better pc right now,, like i dont get it in some missions i have perfect performance in other places its like i dont know stuttering, 10 fps fiesta...\n",
      "[rank 8]:\n",
      "Playing this game on PC feels like a scam. Don't get me wrong: Hogwarts Legacy is beautiful to look at, fun and intriguing. But when it comes to the optimization...well, let's just say it's pretty poor. I possess a High-end/ish PC and the game constantly stutters and lags. Fights against multiple enemies in the Open World areas, Bossfights, Hogsmeade and certain areas of Hogwarts are literally unplayable. This is legit the first time i get to play a game that stutters and drops to 10/15 fps even at low-quality settings which is not normal at all. Again, this is clearly a case of extremely bad optimization so, for now, I wouldn't recommend getting the game to anyone. Just wait for a fix (asap if possible, thanks).\n",
      "[rank 9]:\n",
      "I would like to address the fact that not many people are talking about the performance issues on PC. The game itself looks to offer an immersive experience in the wonderful world of Harry Potter, however the frame rate drops and performance issues really make it unplayable until it gets patched.\n",
      "\n",
      "I'm currently running an RTX 3080 with an i9900k OC'd to 5.3ghz stable and 32gb of ram. All spec are far above the recommended settings. I render the game at 1440p with ray tracing off and the frame rate drops easily into the 20fps range in cutscenes, the school and hogsmeade. \n",
      "\n",
      "I'm excited to continue playing the game however without a patch to increase performance I don't even want to bother. It's way to distracting when you are trying to get into the story but the games is stuttering along like an alpha build. I just came off of a playthrough of God of War which was gorgeous and ran flawlessly at 90+ FPS on ultra. So having the game run so poorly even trying with DLSS(which I try to avoid at all times for quality) is just unacceptable. I have tried the few \"mods\" out there in attempt to increase the performance with no real success. Will update once a patch comes out but for now the game is going to sit on the digital shelf for a while.\n",
      "[rank 10]:\n",
      "The game is obviously amazing, but has incredible performance issues on PC. Wait until a patch is confirmed that fixes that before buying in my opinion. I am on a high end system and it plays like utter crap. I had to spend hours reading forums and watching videos and literally messing with my Windows system settings, just to make it playable.\n",
      "\n",
      "That said, I'm still playing it through all the lag, stutter and FPS drops. Imagine how good it must be :)\n",
      "[rank 11]:\n",
      "I was very excited to play this game as Harry Potter was my childhood. I couldnt wait to go back to the universe again, but sadly as good as the game is, it has some serious performance issues that ruin the experience. \n",
      "\n",
      "I have a high end PC (4090, 32gb ram @3600mhz, and an 12900k running off NVME SDD) and the performance is just unacceptable. I've never experienced a game that lags and drops frames into the low 50's like this before.\n",
      "\n",
      "I will change my review if and when these issues are fixed, but as it is at the moment I'm not sure I can recommend it as there's no guarantee you won't experience the performance issues, and it's simply not worth experiencing it in this state.\n",
      "[rank 12]:\n",
      "Update: Since patch, it seems a little better with the stutters but still get some REALLY bad frame drops from time to time. Hopefully another patch or something helps, but with trouble in performance that I'm having with my setup... I would not recommend this game if you have a low tier build. I'm having to use DLSS and setting it to auto just so I can maintain 80ish frames. Some cut scenes drop down to about 20fps which is pretty annoying. Nervous for when I have to have a boss fight.\n",
      "\n",
      "I can't really recommend this game right now because the optimization for PC is terrible. A lot people, including myself are having really bad frame drops and stuttering and sometimes just an absolute freeze. Going from 120fps to a drop of 20-40fps can be kind of annoying after a while. Hoping that they fix it soon.\n",
      "Specs:\n",
      "i7-10700k\n",
      "RTX 3080 XC3 Ultra\n",
      "16GB RAM \n",
      "\n",
      "RAM is getting eaten up harder than a hotdog at an eating contest. Saw some people with 32GB of RAM having issues with RAM usage as well.\n",
      "[rank 13]:\n",
      "\"Hogwart's Legacy is a great game. It looks incredibly beautiful and the combat is superb....\" is what I would say if the game would actually work for me. Unfortunately, I, and many other PC users like me, are currently unable to play due to significant FPS drops, hitching, lag, crashes to desktop and many of other issues. I've spent a good 10hrs or so at the least, trying all sorts of fixes to no avail. The game is poorly optimized and I'm sure there's a massive memory leak somewhere.\n",
      "\n",
      "Based on the performance aspect alone, I strong recommend passing on Hogwarts Legacy for the time being until said performance issues are dealt with. When/if the issues are fixed, I'm sure this review will change to a Thumbs Up.\n",
      "\n",
      "EDIT: Right after posting this I managed to run the game decent, not great, but decent, until the patch was released that was meant to fix the performance issues. Instead, the game is now crashing to desktop at every load screen or whenever I pause the game. This leads me to the decision that its time to uninstall.\n",
      "[rank 14]:\n",
      "The game itself is amazing, as a Harry Potter fan it's an absolute must play.\n",
      "\n",
      "But the performance on PC is so amazingly bad it's not even funny. Mini stutters every 3 seconds, drops from 100 fps to 30, cutscenes run at 5 fps. Absolute garbage. And take it from me, as someone who has experience with Triple A games getting released on PC: This will NEVER get fixed. Probably need a 5090 (which doesn't exist yet) to run this perfectly smooth. \n",
      "Mind you, i have a i9-10900k and a RTX 3090 TI with 32GB Ram. Even on lowest graphics, the stutters are present. This is poor optimization. \n",
      "\n",
      "Also funny how the game runs smooth in the first 2 hours and as soon as you enter hogwarts, the lag starts. But after 2 hours of playtime, there is no refund option anymore. I believe this was made on purpose. Greedy f*cks. Save your money everyone and play it on PS5.\n",
      "[rank 15]:\n",
      "The game itself as far as the story and graphics are concerned are lovely, but the gameplay is very buggy. The stuttering was terrible, and it has gotten to the point that I can't get past the main menu without it crashing and closing. My PC is well within the recommended specs so I know that's not the problem, and I've tried every fix on my end that I can think of. I love the game and want to play it so I'm hoping one of the patches will fix my problem.\n",
      "[rank 16]:\n",
      "TL;DR: Game is broken, runs like ass. Careful. Waited for day 1 patch and nothing changed. Use the Steam refund policy of 2hrs to your advantage like me and see if it works for you. Game stutters less on my GF's PC, but was a pretty miserable experience for me even though my GPU is better. It's weird. \n",
      "\n",
      "Let me start by saying that I only played for right below 2 hours, you'll know why soon. I'm also not a Harry Potter fan, I've watched the movies only once just because my GF is a huge HP nerd. I knew there was a risk of it not running well, but I feel safe with Steam. \n",
      "\n",
      "The game starts off with you creating your character, a student in his or her 5th year that is about to join Hogwarts. Something happens, and you have to work your way running around to get to the school. During that tutorial period, the game runs smooth as butter. It looks great, runs great, plays and feels fantastic. The wand combat is way more satisfying than I thought it would be and I was definitely looking forward to seeing how much deeper it goes. But then the issues hit.\n",
      "\n",
      "Once you finally make it back to Hogwarts. The game just turns into a Powerpoint presentation. It started with the cutscenes for a few seconds then it would be fine. Running around the school for the most part was fine, indoors. The second you get close to doors, or anything leading to or is outside, it turns to crap. The game starts dropping frames, stuttering, you name it. Goes from 100+ fps, all the way down to like low teens. \n",
      "\n",
      "Tried whatever adjustments and settings I had time for but none of it worked. So now I am not spending anymore time on it due to Steam's refund policy. Refunded because nothing was even announced on day 1 for people like me. It's unfortunate because she's enjoying the game itself a lot. Oh well, it is what it is.\n",
      "[rank 17]:\n",
      "Many people including myself are having performance issues on PC. I have to use the recommended graphics and it still tanks on my PC. I regret getting it on here, because console version don't have this issue. I would recommend getting this game on console because when this game works it's incredible, however the lag, and frame drops ruin the experience for me. I really hope the dev's update the performance on here in an update because at times the game feels unplayable, at least on PC. I will change this review once those problems are addressed and fixed.\n",
      "[rank 18]:\n",
      "Game lags frequently, Can't run on ULTRA on an RX6750XT 32GB Ram 6000MHz even though recommended is, an RX5700XT or a GTX1080Ti. DO not understand why there isn't anyone online talking about this honestly!. I have tried everything from putting things on every type of setting for graphics with Ultra with High and Medium it still drops FPS, currently unplayable unless you run it on medium but why do I have to run what they require which is garbage lol!, if the game had some stutters like \"Dead Space\" I would of been fine with the game but it Crashes and Lags the game to the point where I am not having fun at all, If they made a patch where the game didn't act weird I would of gave this game a good review but where it stands at launch for it to be sort of unplayable I'm putting my thumbs DOWN!!!!!!!! Or change the Recommended Graphics to a RTX4900 and a 7900XT and the ram is 64GB if you want ultra lol\n",
      "[rank 19]:\n",
      "Game has continuous stutters and FPS drops even at the lowest settings. It crashes on a specific cutscene that doesn't even have all the textures loaded every time I play the game, so I can't progress the game any further. I try abandoning the mission and coming back and the same thing still happens. Restarted my PC and it still happens. Will change review if they fix the game.\n"
     ]
    }
   ],
   "source": [
    "#top 10 reviews in descending page rank\n",
    "inv_steam = {value: key for key, value in pr_steam.items()}\n",
    "inv_idx_steam = [inv_steam[i] for i in nlargest(20, sorted(inv_steam.keys(), reverse = True))]\n",
    "for i, sentence in enumerate(steam_df.loc[inv_idx_steam,'review']):\n",
    "    print(f\"[rank {i}]:\\n{sentence}\")"
   ]
  },
  {
   "cell_type": "code",
   "execution_count": 17,
   "id": "1af831c0",
   "metadata": {},
   "outputs": [
    {
     "data": {
      "text/plain": [
       "<matplotlib.collections.PathCollection at 0x1e8ef0bde20>"
      ]
     },
     "execution_count": 17,
     "metadata": {},
     "output_type": "execute_result"
    },
    {
     "data": {
      "image/png": "[encoded data removed]",
      "text/plain": [
       "<Figure size 432x288 with 1 Axes>"
      ]
     },
     "metadata": {
      "needs_background": "light"
     },
     "output_type": "display_data"
    }
   ],
   "source": [
    "#scatter plot of pagerank score\n",
    "plt.scatter(list(pr_steam.keys()),sorted(pr_steam.values()))"
   ]
  },
  {
   "cell_type": "code",
   "execution_count": 18,
   "id": "557a8d06",
   "metadata": {
    "scrolled": true
   },
   "outputs": [
    {
     "data": {
      "text/plain": [
       "(array([191., 257., 263., 327., 371., 451., 440., 271., 116.,  20.]),\n",
       " array([5.57797073e-05, 1.23707390e-04, 1.91635073e-04, 2.59562755e-04,\n",
       "        3.27490438e-04, 3.95418121e-04, 4.63345804e-04, 5.31273486e-04,\n",
       "        5.99201169e-04, 6.67128852e-04, 7.35056534e-04]),\n",
       " <BarContainer object of 10 artists>)"
      ]
     },
     "execution_count": 18,
     "metadata": {},
     "output_type": "execute_result"
    },
    {
     "data": {
      "image/png": "[encoded data removed]",
      "text/plain": [
       "<Figure size 432x288 with 1 Axes>"
      ]
     },
     "metadata": {
      "needs_background": "light"
     },
     "output_type": "display_data"
    }
   ],
   "source": [
    "#histogram of pagerank score\n",
    "plt.hist(pr_steam.values(), bins = 10)"
   ]
  },
  {
   "cell_type": "code",
   "execution_count": null,
   "id": "c0b7d60a",
   "metadata": {
    "scrolled": true
   },
   "outputs": [],
   "source": [
    "#Before positive\n",
    "idx_bp, pr_bp = pagerank(bef_pos)"
   ]
  },
  {
   "cell_type": "code",
   "execution_count": 56,
   "id": "c7eaf866",
   "metadata": {},
   "outputs": [
    {
     "name": "stdout",
     "output_type": "stream",
     "text": [
      "[rank 0]:\n",
      "That looks so good! God, I can’t wait until this game is out.\n",
      "[rank 1]:\n",
      "Will the game actually look this good??\n",
      "[rank 2]:\n",
      "Nope, I don't know why I would. As good as the game looks, I'm waiting for reviews.\n",
      "[rank 3]:\n",
      "fuck this game looks so good\n",
      "[rank 4]:\n",
      "Some good News. I really cant wait to Play this Game!\n",
      "[rank 5]:\n",
      "I am so excited for this game it looks amazing!\n",
      "[rank 6]:\n",
      "I'm buying the game just to explore Hogwarts. It looks amazing. If the gameplay is good, that's a bonus at this point.\n",
      "[rank 7]:\n",
      "They are in game renders, they look so good\n",
      "[rank 8]:\n",
      " I'm getting good feelings about this game after the latest video. Definitely looks like something I'm going to waste countless hours on.\n",
      "\n",
      "&#x200B;\n",
      "\n",
      " Also that coat the character was wearing was cool.\n",
      "[rank 9]:\n",
      "If the game is as good as it it looks, I’ll do two plays one as Ravenclaw and the next as Slytherin.\n",
      "[rank 10]:\n",
      "No in game schedule so not really Bully 2. The game does look good though and I am even more excited for it.\n",
      "[rank 11]:\n",
      "Damn looks like I was right to worry about the game running on UE4.\n",
      "[rank 12]:\n",
      "Looks great, I'm glad they are fine tuning simple things like this, something that can make the game feel way more enjoyable to play.\n",
      "[rank 13]:\n",
      "It looks really good but I got a feeling it might take one more delay for this game\n",
      "[rank 14]:\n",
      "Not even close. Still looks like it will be a fun game though.\n"
     ]
    }
   ],
   "source": [
    "#Top 15 comments in descending page rank\n",
    "inv_bp = {value: key for key, value in pr_bp.items()}\n",
    "inv_idx_bp = [inv_bp[i] for i in nlargest(15, sorted(inv_bp.keys(), reverse = True))]\n",
    "for i, sentence in enumerate(bef_pos.loc[inv_idx_bp,'content']):\n",
    "    print(f\"[rank {i}]:\\n{sentence}\")"
   ]
  },
  {
   "cell_type": "code",
   "execution_count": 21,
   "id": "2f915693",
   "metadata": {},
   "outputs": [
    {
     "data": {
      "text/plain": [
       "<matplotlib.collections.PathCollection at 0x1e949effe50>"
      ]
     },
     "execution_count": 21,
     "metadata": {},
     "output_type": "execute_result"
    },
    {
     "data": {
      "image/png": "[encoded data removed]",
      "text/plain": [
       "<Figure size 432x288 with 1 Axes>"
      ]
     },
     "metadata": {
      "needs_background": "light"
     },
     "output_type": "display_data"
    }
   ],
   "source": [
    "plt.scatter(list(pr_bp.keys()),sorted(pr_bp.values()))"
   ]
  },
  {
   "cell_type": "code",
   "execution_count": 22,
   "id": "65c7487f",
   "metadata": {},
   "outputs": [
    {
     "data": {
      "text/plain": [
       "(array([ 485.,  843.,  997., 1005.,  957.,  763.,  421.,  156.,   36.,\n",
       "          10.]),\n",
       " array([2.64767402e-05, 6.83133913e-05, 1.10150042e-04, 1.51986694e-04,\n",
       "        1.93823345e-04, 2.35659996e-04, 2.77496647e-04, 3.19333298e-04,\n",
       "        3.61169949e-04, 4.03006600e-04, 4.44843252e-04]),\n",
       " <BarContainer object of 10 artists>)"
      ]
     },
     "execution_count": 22,
     "metadata": {},
     "output_type": "execute_result"
    },
    {
     "data": {
      "image/png": "[encoded data removed]",
      "text/plain": [
       "<Figure size 432x288 with 1 Axes>"
      ]
     },
     "metadata": {
      "needs_background": "light"
     },
     "output_type": "display_data"
    }
   ],
   "source": [
    "plt.hist(pr_bp.values(), bins = 10)"
   ]
  },
  {
   "cell_type": "code",
   "execution_count": 23,
   "id": "f5551c7f",
   "metadata": {},
   "outputs": [],
   "source": [
    "#Before negative\n",
    "idx_bn, pr_bn = pagerank(bef_neg)"
   ]
  },
  {
   "cell_type": "code",
   "execution_count": 54,
   "id": "d339b6df",
   "metadata": {},
   "outputs": [
    {
     "name": "stdout",
     "output_type": "stream",
     "text": [
      "[rank 0]:\n",
      "They seem like the really want peoples money. I hope the game itself  is good.\n",
      "[rank 1]:\n",
      "I really hope this game is good otherwise your gonna be like those people who got cyberpunk tats and stuff lol\n",
      "[rank 2]:\n",
      "It’s not even out yet! I hope you like the game man….\n",
      "[rank 3]:\n",
      "Other people: this game is not gonna do well it doesn't look good \n",
      "Me: Dude, it's Harry Potter. It WILL do well.\n",
      "[rank 4]:\n",
      "I'm very excited but I feel like from reading this sub a lot of people have unrealistic expectations for this game and will be disappointed.\n",
      "[rank 5]:\n",
      "This game gonna sell like crazy, i hope it doesn't disappoint.\n",
      "[rank 6]:\n",
      "With a lot of new people getting into video games due to this game, you can not really fault them for being excited about something like this\n",
      "[rank 7]:\n",
      "It’s pretty rare that a game gets people excited like this one has. I can’t remember the last time I routinely checked my calendar in anticipation like this, so I’m right there with you.\n",
      "[rank 8]:\n",
      "Looks like one of those mobile game ads character walking\n",
      "[rank 9]:\n",
      "I dont get it why are people against pre-ordering? I'm getting the game on steam first of jan\n",
      "[rank 10]:\n",
      "Now I'm gonna buy the game even harder!\n",
      "[rank 11]:\n",
      "I pre order the game and will play it on day one. Can't believe people are really going to boycott this game.\n",
      "[rank 12]:\n",
      "And just like that, I'm buying the game used lol not supporting a game that doesn't respect me\n",
      "[rank 13]:\n",
      "The combat looks like it’s from a mobile game.\n",
      "[rank 14]:\n",
      "Im never in a hurry in a game unless it sucks lol. I like going slow and doing and seeing all the little things!\n"
     ]
    }
   ],
   "source": [
    "#Top 15 posts/comments in descending page rank\n",
    "inv_bn = {value: key for key, value in pr_bn.items()}\n",
    "inv_idx_bn = [inv_bn[i] for i in nlargest(15, sorted(inv_bn.keys(), reverse = True))]\n",
    "\n",
    "for i, sentence in enumerate(bef_neg.loc[inv_idx_bn,'content']):\n",
    "    print(f\"[rank {i}]:\\n{sentence}\")"
   ]
  },
  {
   "cell_type": "code",
   "execution_count": 25,
   "id": "1f437bd2",
   "metadata": {
    "scrolled": true
   },
   "outputs": [
    {
     "data": {
      "text/plain": [
       "<matplotlib.collections.PathCollection at 0x1e949ec9f10>"
      ]
     },
     "execution_count": 25,
     "metadata": {},
     "output_type": "execute_result"
    },
    {
     "data": {
      "image/png": "[encoded data removed]",
      "text/plain": [
       "<Figure size 432x288 with 1 Axes>"
      ]
     },
     "metadata": {
      "needs_background": "light"
     },
     "output_type": "display_data"
    }
   ],
   "source": [
    "plt.scatter(list(pr_bn.keys()),sorted(pr_bn.values()))"
   ]
  },
  {
   "cell_type": "code",
   "execution_count": 26,
   "id": "81d38670",
   "metadata": {},
   "outputs": [
    {
     "data": {
      "text/plain": [
       "(array([369., 492., 498., 387., 442., 454., 258.,  67.,  15.,   3.]),\n",
       " array([5.05246139e-05, 1.32793594e-04, 2.15062573e-04, 2.97331553e-04,\n",
       "        3.79600533e-04, 4.61869513e-04, 5.44138492e-04, 6.26407472e-04,\n",
       "        7.08676452e-04, 7.90945432e-04, 8.73214411e-04]),\n",
       " <BarContainer object of 10 artists>)"
      ]
     },
     "execution_count": 26,
     "metadata": {},
     "output_type": "execute_result"
    },
    {
     "data": {
      "image/png": "[encoded data removed]",
      "text/plain": [
       "<Figure size 432x288 with 1 Axes>"
      ]
     },
     "metadata": {
      "needs_background": "light"
     },
     "output_type": "display_data"
    }
   ],
   "source": [
    "plt.hist(pr_bn.values(), bins = 10)"
   ]
  },
  {
   "cell_type": "code",
   "execution_count": 27,
   "id": "9980fe14",
   "metadata": {
    "scrolled": true
   },
   "outputs": [],
   "source": [
    "#After positive\n",
    "idx_ap, pr_ap = pagerank(aft_pos)"
   ]
  },
  {
   "cell_type": "code",
   "execution_count": 63,
   "id": "55d5dd33",
   "metadata": {},
   "outputs": [
    {
     "name": "stdout",
     "output_type": "stream",
     "text": [
      "[rank 0]:\n",
      "Before playing it I was like \"nahh too many good games\" but now I'm definitely considering it GOTY material, it's everything I wanted and so much more, even after 20+ hours I keep seeing new content all the time and there's a lot to look forward to.\n",
      "[rank 1]:\n",
      "Im soo happy right now. I would never expect getting really good and amazing game like this, because most of the time, every new games are just at best ok.\n",
      "[rank 2]:\n",
      "Yeah, I love that.  It feels like a callback to the first two PC Harry Potter games where Harry would whisper the spells when he was under the invisibility cloak.\n",
      "[rank 3]:\n",
      "I always used to say Fable was the Harry Potter games we never got and here 15+ years later it feels like we finally got it. I love fable and also had the same feeling playing this\n",
      "[rank 4]:\n",
      "Yes yes yes!!!!! I love this game!!!! I was 13 in 2001 when the first movie came out so I’ve been living Harry Potter for a LONG time lol\n",
      "[rank 5]:\n",
      "While I haven't played for too long as of yet, what I can already see is that this game was made by people who *actually play and like games*. That's actually rather rare. I'm looking forward to playing more of this amazing game. ♥\n",
      "[rank 6]:\n",
      "It really was pretty great. It didn't feel like a tutorial. I mean, the cave in Elden Ring felt like a tutorial (and I love that game). The tutorial in HL felt like I was just playing the game.\n",
      "[rank 7]:\n",
      "Last time I felt like this was KOTOR 1 on Xbox and before that it was Quest 64 on the N64. It's extremely rare for me to be so in love with a world that I'm RP walking in a single player game.\n",
      "[rank 8]:\n",
      "It was incredible! I'm like 10 hours in and it's packed full of stuff like that. So far this game has surpassed every expectation i had. In the intro when you see \"them\" for the first time I went \"Ohhhhhhhh\".\n",
      "[rank 9]:\n",
      "I love puzzle games so having puzzles in this game is a good thing for me\n",
      "[rank 10]:\n",
      "The first time I randomly ran into the Happy Death Day party room I was in awe. This game is ridiculously detailed and even after playing for 30+ hours I'm still stumbling into so much cool stuff in Hogwarts.\n",
      "[rank 11]:\n",
      "I’m 29 and this game is incredible. Some parts were even overwhelming. I’ve been wanting a game like this since I was a kid. Just made it to Hogsmeade for the first time, and damn. I can’t believe the developers actually did it!\n",
      "[rank 12]:\n",
      "I just turned 46, and while I love gaming, this is the first game that exploring actually feels fun  and I am motivated to find the various collectables.\n",
      "\n",
      "And I don't even like the Harry Potter books or movies lol\n",
      "[rank 13]:\n",
      "Yeah, I love that I could have my locs!  Wish they had a longer option but still exciting.  Looks more like me than most other games 🥰\n",
      "\n",
      "https://preview.redd.it/sd62w12c7rga1.jpeg?width=3840&format=pjpg&auto=webp&v=enabled&s=f0a492ebd88612123335d85ffcd9fe88f5e68563\n",
      "[rank 14]:\n",
      "Can I… ask about “the locket”? The game keeps mentioning that we’ve found it, but I can’t really remember where we did, or when we did? Which scene was that, and what does it look like?\n"
     ]
    }
   ],
   "source": [
    "#top 15 posts/comments in descending page rank\n",
    "inv_ap = {value: key for key, value in pr_ap.items()}\n",
    "inv_idx_ap = [inv_ap[i] for i in nlargest(15, sorted(inv_ap.keys(), reverse = True))]\n",
    "\n",
    "for i, sentence in enumerate(aft_pos.loc[inv_idx_ap,'content']):\n",
    "    print(f\"[rank {i}]:\\n{sentence}\")"
   ]
  },
  {
   "cell_type": "code",
   "execution_count": 29,
   "id": "5aa3ca93",
   "metadata": {
    "scrolled": true
   },
   "outputs": [
    {
     "data": {
      "text/plain": [
       "<matplotlib.collections.PathCollection at 0x1e8f992aeb0>"
      ]
     },
     "execution_count": 29,
     "metadata": {},
     "output_type": "execute_result"
    },
    {
     "data": {
      "image/png": "[encoded data removed]",
      "text/plain": [
       "<Figure size 432x288 with 1 Axes>"
      ]
     },
     "metadata": {
      "needs_background": "light"
     },
     "output_type": "display_data"
    }
   ],
   "source": [
    "plt.scatter(list(pr_ap.keys()),sorted(pr_ap.values()))"
   ]
  },
  {
   "cell_type": "code",
   "execution_count": 30,
   "id": "7f9bdb5c",
   "metadata": {
    "scrolled": true
   },
   "outputs": [
    {
     "data": {
      "text/plain": [
       "(array([153., 252., 305., 320., 349., 295., 196.,  88.,  20.,   9.]),\n",
       " array([7.56849488e-05, 1.85693903e-04, 2.95702857e-04, 4.05711811e-04,\n",
       "        5.15720765e-04, 6.25729719e-04, 7.35738673e-04, 8.45747627e-04,\n",
       "        9.55756581e-04, 1.06576554e-03, 1.17577449e-03]),\n",
       " <BarContainer object of 10 artists>)"
      ]
     },
     "execution_count": 30,
     "metadata": {},
     "output_type": "execute_result"
    },
    {
     "data": {
      "image/png": "[encoded data removed]",
      "text/plain": [
       "<Figure size 432x288 with 1 Axes>"
      ]
     },
     "metadata": {
      "needs_background": "light"
     },
     "output_type": "display_data"
    }
   ],
   "source": [
    "plt.hist(pr_ap.values(), bins = 10)"
   ]
  },
  {
   "cell_type": "code",
   "execution_count": 31,
   "id": "025ef2ae",
   "metadata": {},
   "outputs": [],
   "source": [
    "#After negative\n",
    "idx_an, pr_an = pagerank(aft_neg)"
   ]
  },
  {
   "cell_type": "code",
   "execution_count": 65,
   "id": "655495ad",
   "metadata": {},
   "outputs": [
    {
     "name": "stdout",
     "output_type": "stream",
     "text": [
      "[rank 0]:\n",
      "When I first heard her say that, I was like \"What? This is the 1800s, you can't have a wife!\"\n",
      "\n",
      "Honestly feels like this game should be set in the 2020s.\n",
      "[rank 1]:\n",
      "I’m level 20 and the only time I’ve been in the common room was at the beginning of the game. I don’t even know how to get to my common room.\n",
      "[rank 2]:\n",
      "I'd also love it if something was added to make the students more interactive, even adding collision would help. I also wish you could use magic on everyone like you could in the order of the phoenix game.\n",
      "[rank 3]:\n",
      "Do we get to have animals at some point in the game like a niffler ? ![img](emote|t5_q8ebh|26542)\n",
      "[rank 4]:\n",
      "I've had a chest glitch out. Couldn't open it because my slots were full.  Couldn't reset it any way because I was on the way to get that book in the restricted area of the library. Went back down there and the chest was now empty. Like my only one gripe with this game so far. Well that and the map. It's very unintuitive.\n",
      "[rank 5]:\n",
      "yeah theres like absolutely NO immersion in this game at all. it doesnt feel alive. i dont get this sense anything is going on at hogwarts other than some kids chilling in the halls. also is there even a day night cycle??? i have not reached a point in the game where that is obvious yet it seems like it changes based on missions like spider man.\n",
      "[rank 6]:\n",
      "Joke doesn't work because as much as Americans don't want to admit it, Harry Potter is 100% British, why would you even play a Harry Potter game if you're then going to make a joke about something you knew before you went in?\n",
      "\n",
      "If you want a joke; Ilvermorny was nothing but a way to make a huge part of the fanbase feel more included and get at their wallets.\n",
      "[rank 7]:\n",
      "Tight, I'm gonna wake up tomorrow and clean up this list. It's annoying trying to finish my map up and getting halted by lvl 3 locks. Honestly it's the one thing about this game I don't like.\n",
      "[rank 8]:\n",
      "Usually I hate game openings, they're boring like a chore I just want to finish ASAP. Not this time. I was really invested and got goosebumps at the end!\n",
      "[rank 9]:\n",
      "Yeah I was like level 18 or 19 also. Thought it was really weird that you get SO MUCH exp before you can do anything with your talents.\n",
      "[rank 10]:\n",
      "Thisnone game would take like 4 movies.\n",
      "[rank 11]:\n",
      "Not really, it's the same as any other game. You just like this one more so you put up with it and rationalize it.\n",
      "\n",
      "It's pure busy work.\n",
      "[rank 12]:\n",
      "just roll out of the way like most games.\n",
      "[rank 13]:\n",
      "I like most people have been getting the frame drops. I turned down the character population setting to low. I couldn't notice much of a visual difference but my fps increased a lot. \n",
      "  \n",
      "I'm running on a 3080 with a 9600k. I was curious so i tried putting the game to the lowest settings and the game went to like 15 fps lol. Idk whats going on here.\n",
      "[rank 14]:\n",
      "I'm really high and for a min I thought you meant luminos for some reason. I was sitting here like \"if it autocasts spells for you then what's the point of playing\". But yes, the lock mini game should definitely be automatic at max level\n"
     ]
    }
   ],
   "source": [
    "#top 15 posts/comments in descending page rank\n",
    "inv_an = {value: key for key, value in pr_an.items()}\n",
    "inv_idx_an = [inv_an[i] for i in nlargest(15, sorted(inv_an.keys(), reverse = True))]\n",
    "\n",
    "for i, sentence in enumerate(aft_neg.loc[inv_idx_an,'content']):\n",
    "    print(f\"[rank {i}]:\\n{sentence}\")"
   ]
  },
  {
   "cell_type": "code",
   "execution_count": 33,
   "id": "fb074672",
   "metadata": {
    "scrolled": true
   },
   "outputs": [
    {
     "data": {
      "text/plain": [
       "<matplotlib.collections.PathCollection at 0x1e8b33efa90>"
      ]
     },
     "execution_count": 33,
     "metadata": {},
     "output_type": "execute_result"
    },
    {
     "data": {
      "image/png": "[encoded data removed]",
      "text/plain": [
       "<Figure size 432x288 with 1 Axes>"
      ]
     },
     "metadata": {
      "needs_background": "light"
     },
     "output_type": "display_data"
    }
   ],
   "source": [
    "plt.scatter(list(pr_an.keys()),sorted(pr_an.values()))"
   ]
  },
  {
   "cell_type": "code",
   "execution_count": 34,
   "id": "5ee3a5f0",
   "metadata": {},
   "outputs": [
    {
     "data": {
      "text/plain": [
       "(array([ 77., 179., 211., 214., 222., 239., 172., 109.,  33.,  10.]),\n",
       " array([0.00010268, 0.00023952, 0.00037637, 0.00051321, 0.00065006,\n",
       "        0.0007869 , 0.00092375, 0.00106059, 0.00119744, 0.00133428,\n",
       "        0.00147113]),\n",
       " <BarContainer object of 10 artists>)"
      ]
     },
     "execution_count": 34,
     "metadata": {},
     "output_type": "execute_result"
    },
    {
     "data": {
      "image/png": "[encoded data removed]",
      "text/plain": [
       "<Figure size 432x288 with 1 Axes>"
      ]
     },
     "metadata": {
      "needs_background": "light"
     },
     "output_type": "display_data"
    }
   ],
   "source": [
    "plt.hist(pr_an.values(), bins = 10)"
   ]
  },
  {
   "cell_type": "markdown",
   "id": "c3a1c2f9",
   "metadata": {},
   "source": [
    "## 4. Topic Modelling"
   ]
  },
  {
   "cell_type": "code",
   "execution_count": 46,
   "id": "dab9c982",
   "metadata": {},
   "outputs": [],
   "source": [
    "def nmf(data):\n",
    "    #Remove tokens that do not appear in at least 50 documents\n",
    "    vect = TfidfVectorizer(min_df=50, stop_words='english')\n",
    "\n",
    "    # Fit and transform\n",
    "    X = vect.fit_transform(data)\n",
    "\n",
    "    # Initialize NMF model with 10 topics\n",
    "    model = NMF(n_components=10, random_state=5)\n",
    "    model.fit(X)\n",
    "    nmf_features = model.transform(X)\n",
    "\n",
    "    # Create a df of the model components\n",
    "    components_df = pd.DataFrame(model.components_, columns=vect.get_feature_names_out())\n",
    "    \n",
    "    # Create a dict and show results\n",
    "    d = {'Topic': [], 'Words': []}\n",
    "    \n",
    "    for topic in range(components_df.shape[0]):\n",
    "        words = components_df.iloc[topic]\n",
    "        words = ', '.join(words.nlargest(10).index)\n",
    "        d['Topic'].append(topic)\n",
    "        d['Words'].append(words)\n",
    "    print(tabulate(d, tablefmt = \"grid\", headers = [\"Topic\", \"Words\"]))\n",
    "        \n",
    "    return model, nmf_features\n",
    "\n",
    "def plot_topic_freq(model, nmf_features, title):\n",
    "    # Count the document frequency of each topic\n",
    "    topic_freq = [0] * model.n_components\n",
    "    for doc in nmf_features:\n",
    "        topic = doc.argmax()\n",
    "        topic_freq[topic] += 1\n",
    "\n",
    "    # Plot a bar chart to show the frequency\n",
    "    fig, ax = plt.subplots(figsize = (12,8))\n",
    "    ax.set_title(title)\n",
    "    ax.bar(range(10), topic_freq)\n",
    "    ax.set_xlabel(\"Topic\")\n",
    "    ax.set_ylabel(\"Number of Documents containing topic\")\n",
    "    ax.set_xticks(range(10))\n",
    "    plt.show()"
   ]
  },
  {
   "cell_type": "code",
   "execution_count": 39,
   "id": "a6fb8242",
   "metadata": {},
   "outputs": [
    {
     "name": "stdout",
     "output_type": "stream",
     "text": [
      "+---------+------------------------------------------------------------------------------------+\n",
      "|   Topic | Words                                                                              |\n",
      "+=========+====================================================================================+\n",
      "|       0 | just, world, like, story, hogwarts, really, potter, harry, character, combat       |\n",
      "+---------+------------------------------------------------------------------------------------+\n",
      "|       1 | game, great, good, fun, recommend, run, optimization, buy, review, graphics        |\n",
      "+---------+------------------------------------------------------------------------------------+\n",
      "|       2 | performance, issues, fixed, recommend, bad, horrible, good, poor, awful, fun       |\n",
      "+---------+------------------------------------------------------------------------------------+\n",
      "|       3 | fps, drops, settings, frame, ram, unplayable, rtx, low, stuttering, stutters       |\n",
      "+---------+------------------------------------------------------------------------------------+\n",
      "|       4 | pc, port, version, optimized, run, wait, optimization, good, just, console         |\n",
      "+---------+------------------------------------------------------------------------------------+\n",
      "|       5 | runs, like, shit, denuvo, garbage, fucking, stutters, looks, trash, poorly         |\n",
      "+---------+------------------------------------------------------------------------------------+\n",
      "|       6 | crashes, constantly, time, start, screen, warning, minutes, patch, crash, load     |\n",
      "+---------+------------------------------------------------------------------------------------+\n",
      "|       7 | play, hours, save, played, just, progress, able, steam, update, dont               |\n",
      "+---------+------------------------------------------------------------------------------------+\n",
      "|       8 | fix, stuttering, issues, stutter, issue, lag, tried, patch, frames, review         |\n",
      "+---------+------------------------------------------------------------------------------------+\n",
      "|       9 | crashing, keeps, unplayable, warning, past, screen, loading, minutes, patch, makes |\n",
      "+---------+------------------------------------------------------------------------------------+\n"
     ]
    }
   ],
   "source": [
    "#Negative steam reviews\n",
    "steam_model, steam_features = nmf(steam_df['review'])"
   ]
  },
  {
   "cell_type": "code",
   "execution_count": 47,
   "id": "0d19e4e0",
   "metadata": {},
   "outputs": [
    {
     "data": {
      "image/png": "[encoded data removed]",
      "text/plain": [
       "<Figure size 864x576 with 1 Axes>"
      ]
     },
     "metadata": {
      "needs_background": "light"
     },
     "output_type": "display_data"
    }
   ],
   "source": [
    "plot_topic_freq(steam_model, steam_features, \"Negative Steam Reviews\")"
   ]
  },
  {
   "cell_type": "code",
   "execution_count": 48,
   "id": "b64d2c4f",
   "metadata": {},
   "outputs": [
    {
     "name": "stdout",
     "output_type": "stream",
     "text": [
      "+---------+---------------------------------------------------------------------------+\n",
      "|   Topic | Words                                                                     |\n",
      "+=========+===========================================================================+\n",
      "|       0 | game, amazing, play, playing, time, best, think, hour, dont, ha           |\n",
      "+---------+---------------------------------------------------------------------------+\n",
      "|       1 | love, want, playing, think, thing, world, people, character, ha, new      |\n",
      "+---------+---------------------------------------------------------------------------+\n",
      "|       2 | wa, thought, time, way, yeah, playing, know, definitely, got, quest       |\n",
      "+---------+---------------------------------------------------------------------------+\n",
      "|       3 | good, pretty, got, actually, thing, right, people, looking, thought, yeah |\n",
      "+---------+---------------------------------------------------------------------------+\n",
      "|       4 | like, feel, story, castle, actually, make, definitely, fun, world, pretty |\n",
      "+---------+---------------------------------------------------------------------------+\n",
      "|       5 | im, time, ive, hour, glad, getting, playing, going, far, day              |\n",
      "+---------+---------------------------------------------------------------------------+\n",
      "|       6 | lol, thank, character, hour, thing, room, play, got, way, yes             |\n",
      "+---------+---------------------------------------------------------------------------+\n",
      "|       7 | hogwarts, harry, potter, world, castle, year, feel, open, come, ha        |\n",
      "+---------+---------------------------------------------------------------------------+\n",
      "|       8 | look, great, got, yes, dont, amazing, play, make, work, cool              |\n",
      "+---------+---------------------------------------------------------------------------+\n",
      "|       9 | really, thing, agree, character, great, think, room, make, nice, feel     |\n",
      "+---------+---------------------------------------------------------------------------+\n"
     ]
    }
   ],
   "source": [
    "#Positive Reddit comments Post-launch\n",
    "pos_model, pos_features = nmf(aft_pos['cleaned_content'])"
   ]
  },
  {
   "cell_type": "code",
   "execution_count": 50,
   "id": "d9d2da78",
   "metadata": {},
   "outputs": [
    {
     "data": {
      "image/png": "[encoded data removed]",
      "text/plain": [
       "<Figure size 864x576 with 1 Axes>"
      ]
     },
     "metadata": {
      "needs_background": "light"
     },
     "output_type": "display_data"
    }
   ],
   "source": [
    "plot_topic_freq(pos_model, pos_features, \"Positive Reddit Comments Post-Launch\")"
   ]
  },
  {
   "cell_type": "code",
   "execution_count": 51,
   "id": "b10424fa",
   "metadata": {},
   "outputs": [
    {
     "name": "stdout",
     "output_type": "stream",
     "text": [
      "+---------+------------------------------------------------------------------------+\n",
      "|   Topic | Words                                                                  |\n",
      "+=========+========================================================================+\n",
      "|       0 | game, setting, ha, make, pc, want, doesnt, great, lot, issue           |\n",
      "+---------+------------------------------------------------------------------------+\n",
      "|       1 | like, look, feel, character, weird, dont, make, thing, world, say      |\n",
      "+---------+------------------------------------------------------------------------+\n",
      "|       2 | wa, thought, wish, didnt, way, know, quest, going, setting, time       |\n",
      "+---------+------------------------------------------------------------------------+\n",
      "|       3 | im, ive, right, time, sure, hour, hate, far, getting, thing            |\n",
      "+---------+------------------------------------------------------------------------+\n",
      "|       4 | people, way, dont, thing, ive, day, world, want, know, make            |\n",
      "+---------+------------------------------------------------------------------------+\n",
      "|       5 | lol, right, wish, drop, thought, got, doesnt, going, thing, feel       |\n",
      "+---------+------------------------------------------------------------------------+\n",
      "|       6 | really, wish, time, annoying, doesnt, weird, hour, great, make, didnt  |\n",
      "+---------+------------------------------------------------------------------------+\n",
      "|       7 | map, hogwarts, hour, world, way, feel, lot, want, ha, quest            |\n",
      "+---------+------------------------------------------------------------------------+\n",
      "|       8 | yeah, time, ha, thing, character, annoying, know, thought, didnt, look |\n",
      "+---------+------------------------------------------------------------------------+\n",
      "|       9 | spell, point, annoying, make, way, think, dont, thing, need, want      |\n",
      "+---------+------------------------------------------------------------------------+\n"
     ]
    }
   ],
   "source": [
    "#Positive Reddit comments Post-launch\n",
    "neg_model, neg_features = nmf(aft_neg['cleaned_content'])"
   ]
  },
  {
   "cell_type": "code",
   "execution_count": 52,
   "id": "4ea86b1d",
   "metadata": {},
   "outputs": [
    {
     "data": {
      "image/png": "[encoded data removed]",
      "text/plain": [
       "<Figure size 864x576 with 1 Axes>"
      ]
     },
     "metadata": {
      "needs_background": "light"
     },
     "output_type": "display_data"
    }
   ],
   "source": [
    "plot_topic_freq(neg_model, neg_features, \"Negative Reddit Comments Post-Launch\")"
   ]
  }
 ],
 "metadata": {
  "kernelspec": {
   "display_name": "Python 3 (ipykernel)",
   "language": "python",
   "name": "python3"
  },
  "language_info": {
   "codemirror_mode": {
    "name": "ipython",
    "version": 3
   },
   "file_extension": ".py",
   "mimetype": "text/x-python",
   "name": "python",
   "nbconvert_exporter": "python",
   "pygments_lexer": "ipython3",
   "version": "3.9.12"
  },
  "varInspector": {
   "cols": {
    "lenName": 16,
    "lenType": 16,
    "lenVar": 40
   },
   "kernels_config": {
    "python": {
     "delete_cmd_postfix": "",
     "delete_cmd_prefix": "del ",
     "library": "var_list.py",
     "varRefreshCmd": "print(var_dic_list())"
    },
    "r": {
     "delete_cmd_postfix": ") ",
     "delete_cmd_prefix": "rm(",
     "library": "var_list.r",
     "varRefreshCmd": "cat(var_dic_list()) "
    }
   },
   "types_to_exclude": [
    "module",
    "function",
    "builtin_function_or_method",
    "instance",
    "_Feature"
   ],
   "window_display": false
  }
 },
 "nbformat": 4,
 "nbformat_minor": 5
}
